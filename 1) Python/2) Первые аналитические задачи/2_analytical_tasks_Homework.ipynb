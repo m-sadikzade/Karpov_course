{
 "cells": [
  {
   "cell_type": "markdown",
   "metadata": {
    "id": "Hw5XGVqDbq3X"
   },
   "source": [
    "# Проект урока 2. Первые аналитические задачи\n",
    "#  «Аналитика бронирования отелей»"
   ]
  },
  {
   "cell_type": "markdown",
   "metadata": {
    "id": "p7qBTzrZbq3c"
   },
   "source": [
    "## Шаг 1"
   ]
  },
  {
   "cell_type": "markdown",
   "metadata": {
    "id": "LLG1ILP2bq3d"
   },
   "source": [
    "В этом проекте вам предстоит почувствовать себя в роли аналитика данных в компании, владеющей сетью отелей, и проанализировать данные о бронированиях. Описание колонок:\n",
    "* Hotel – тип отеля (City Hotel или Resort Hotel)  \n",
    "* Is canceled – бронирование было отменено (1) или нет (0); не отмененное считается успешным\n",
    "* Lead time – количество дней, прошедших между датой бронирования и датой прибытия  \n",
    "* Arrival full date – полная дата прибытия\n",
    "* Arrival date year – год прибытия  \n",
    "* Arrival date month – месяц прибытия  \n",
    "* Arrival date week number – номер недели прибытия\n",
    "* Arrival date day of month – день прибытия\n",
    "* Stays in weekend nights – количество выходных (суббота или воскресенье), которые гость забронировал для проживания в отеле\n",
    "* Stays in week nights – количество дней (с понедельника по пятницу), которые гость забронировал для проживания в отеле\n",
    "* Stays total nights – общее число забронированных ночей (сумма двух предыдущих колонок)\n",
    "* Adults – число взрослых\n",
    "* Children – число детей\n",
    "* Babies – число младенцев\n",
    "* Meal – выбранный тип питания\n",
    "* Country – страна происхождения клиента\n",
    "* Reserved room type – тип зарезервированного номера\n",
    "* Assigned room type – тип полученного номера (может отличаться от забронированного)\n",
    "* Customer type – тип бронирования\n",
    "* Reservation status – значение последнего статуса брони: Canceled — было отменено клиентом; Check-Out — клиент зарегистрировался, но уже покинул отель; No-Show — клиент не зарегистрировался и сообщил администрации отеля причину\n",
    "* Reservation status date – дата обновления статуса\n",
    "\n",
    "В этом уроке вы закрепите навыки решения аналитических задач с помощью основных методов библиотеки pandas и попробуете новые методы."
   ]
  },
  {
   "cell_type": "markdown",
   "metadata": {
    "id": "HVa-Z8_ibq3f"
   },
   "source": [
    "## Шаг 2"
   ]
  },
  {
   "cell_type": "markdown",
   "metadata": {
    "id": "0_Q6ktpPbq3g"
   },
   "source": [
    "Как обычно, в начале откройте датасет и посмотрите на данные. Для этого используйте библиотеку pandas, прочитайте датасет с разделителем `;`, сохраните его в переменную `bookings`. **Посмотрите, из какой страны было сделано бронирование в 19-й сверху строке** (обратите внимание, индекс у этой строки может быть не 19)"
   ]
  },
  {
   "cell_type": "markdown",
   "metadata": {
    "id": "Iynnxww-bq3g"
   },
   "source": [
    "Шаги выполнения:\n",
    "\n",
    "1. Импортируйте библиотеку pandas с общепринятым алиасом (псевдонимом) pd"
   ]
  },
  {
   "cell_type": "markdown",
   "metadata": {
    "id": "y54NiPn1bq3k"
   },
   "source": [
    "2. Загрузите csv файл к уроку в свою папку в JupyterНub\n",
    "\n",
    "3. Прочитайте этот датасет с разделителем `;`, результат сохранив в переменную `bookings`"
   ]
  },
  {
   "cell_type": "markdown",
   "metadata": {
    "id": "FYsIpatGbq3l"
   },
   "source": [
    "4. Выведите первые 19 строк датафрейма"
   ]
  },
  {
   "cell_type": "markdown",
   "metadata": {
    "id": "S4GIagj1bq3l"
   },
   "source": [
    "5. Определите название страны из 19-й сверху строки в колонке `Country`"
   ]
  },
  {
   "cell_type": "code",
   "execution_count": 42,
   "metadata": {
    "id": "-56heKdqbq3m"
   },
   "outputs": [
    {
     "data": {
      "text/plain": [
       "0     PRT\n",
       "1     PRT\n",
       "2     GBR\n",
       "3     GBR\n",
       "4     GBR\n",
       "5     GBR\n",
       "6     PRT\n",
       "7     PRT\n",
       "8     PRT\n",
       "9     PRT\n",
       "10    PRT\n",
       "11    PRT\n",
       "12    USA\n",
       "13    ESP\n",
       "14    PRT\n",
       "15    IRL\n",
       "16    PRT\n",
       "17    IRL\n",
       "18    FRA\n",
       "Name: Country, dtype: object"
      ]
     },
     "execution_count": 42,
     "metadata": {},
     "output_type": "execute_result"
    }
   ],
   "source": [
    "import pandas as pd\n",
    "bookings = pd.read_csv('2_bookings.csv', sep=';')\n",
    "bookings.head(19)['Country']\n"
   ]
  },
  {
   "cell_type": "markdown",
   "metadata": {
    "id": "W2bvg2Nbbq3o"
   },
   "source": [
    "## Шаг 3"
   ]
  },
  {
   "cell_type": "markdown",
   "metadata": {
    "id": "wrjlAcllbq3o"
   },
   "source": [
    "Посмотрите на размеры датафрейма `bookings`. **Сколько всего в нем строк и столбцов?**"
   ]
  },
  {
   "cell_type": "code",
   "execution_count": 43,
   "metadata": {
    "id": "xc4b1Rg6bq3o"
   },
   "outputs": [
    {
     "data": {
      "text/plain": [
       "(119390, 21)"
      ]
     },
     "execution_count": 43,
     "metadata": {},
     "output_type": "execute_result"
    }
   ],
   "source": [
    "bookings.shape\n"
   ]
  },
  {
   "cell_type": "markdown",
   "metadata": {
    "id": "2E8e5w3Wbq3p"
   },
   "source": [
    "## Шаг 4"
   ]
  },
  {
   "cell_type": "markdown",
   "metadata": {
    "id": "O4VYF26vbq3p"
   },
   "source": [
    "**К какому типу/каким типам относится большинство столбцов?** Выберите один или несколько вариантов."
   ]
  },
  {
   "cell_type": "markdown",
   "metadata": {
    "id": "cx_JpT7fbq3p"
   },
   "source": [
    "Шаги выполнения:\n",
    "1. Проверьте типы данных в датафрейме"
   ]
  },
  {
   "cell_type": "markdown",
   "metadata": {
    "id": "HsByVL61bq3q"
   },
   "source": [
    "2. Определите, какой тип/какие типы данных преобладают"
   ]
  },
  {
   "cell_type": "code",
   "execution_count": 44,
   "metadata": {},
   "outputs": [
    {
     "data": {
      "text/plain": [
       "Hotel                         object\n",
       "Is Canceled                    int64\n",
       "Lead Time                      int64\n",
       "arrival full date             object\n",
       "Arrival Date Year              int64\n",
       "Arrival Date Month            object\n",
       "Arrival Date Week Number       int64\n",
       "Arrival Date Day of Month      int64\n",
       "Stays in Weekend nights        int64\n",
       "Stays in week nights           int64\n",
       "stays total nights             int64\n",
       "Adults                         int64\n",
       "Children                     float64\n",
       "Babies                         int64\n",
       "Meal                          object\n",
       "Country                       object\n",
       "Reserved Room Type            object\n",
       "Assigned room type            object\n",
       "customer type                 object\n",
       "Reservation Status            object\n",
       "Reservation status_date       object\n",
       "dtype: object"
      ]
     },
     "execution_count": 44,
     "metadata": {},
     "output_type": "execute_result"
    }
   ],
   "source": [
    "bookings.dtypes"
   ]
  },
  {
   "cell_type": "markdown",
   "metadata": {
    "id": "W0vKh7BJbq3z"
   },
   "source": [
    "## Шаг 5"
   ]
  },
  {
   "cell_type": "markdown",
   "metadata": {
    "id": "5nv1u76Abq3z"
   },
   "source": [
    "Как вы уже могли заметить, названия колонок записаны в неудобном для дальнейшей работы формате. **Исправьте ситуацию, приведя названия столбцов к нижнему регистру и заменив пробелы на знак нижнего подчеркивания**.\n",
    "Например: `Is Canceled` -> `is_canceled`\n",
    "\n",
    "Вручную это делать долго и неудобно, попробуйте автоматизировать ваше решение. Для этого могут пригодиться:\n",
    "\n",
    "[rename](https://pandas.pydata.org/pandas-docs/stable/reference/api/pandas.DataFrame.rename.html)  \n",
    "[str.lower](https://pandas.pydata.org/pandas-docs/stable/reference/api/pandas.Series.str.lower.html)  \n",
    "[str.replace](https://docs.python.org/3/library/stdtypes.html#str.replace)  \n",
    "[columns](https://pandas.pydata.org/pandas-docs/stable/reference/api/pandas.DataFrame.columns.html)\n",
    "\n",
    "Подробнее о них можно прочитать в документации по ссылкам или в конспектах этого и предыдущего уроков."
   ]
  },
  {
   "cell_type": "markdown",
   "metadata": {
    "id": "7rZVgifibq30"
   },
   "source": [
    "Шаги выполнения:\n",
    "1. На одном названии колонки потренируйтесь приводить его к нижнему регистру и заменять пробелы на знак нижнего подчеркивания. Для примера можете взять название колонки `Is Canceled` как строку, в кавычках."
   ]
  },
  {
   "cell_type": "markdown",
   "metadata": {
    "id": "s8mYL2vKbq30"
   },
   "source": [
    "2. Теперь используйте получившийся код для всех названий колонок. Пройдя циклом по списку колонок датафрейма, соберите словарь, в котором ключами будут старые названия колонок, а значениями — новые. Перед циклом, но желательно в той же ячейке, не забудьте создать пустой словарь, куда будете складывать пары названий колонок ключ-значение."
   ]
  },
  {
   "cell_type": "markdown",
   "metadata": {
    "id": "CGulK3O4bq32"
   },
   "source": [
    "3. Убедитесь, что в словаре с названиями колонок получились именно те значения, которые вам нужны"
   ]
  },
  {
   "cell_type": "markdown",
   "metadata": {
    "id": "DT_fjTQ_bq32"
   },
   "source": [
    "4. Используя получившийся словарь, переименуйте колонки датафрейма `bookings`, сохранив результат в том же датафрейме"
   ]
  },
  {
   "cell_type": "markdown",
   "metadata": {
    "id": "la7R-Ns6bq33"
   },
   "source": [
    "5. Убедитесь, что названия столбцов были успешно изменены и результат сохранен в датафрейм `bookings`"
   ]
  },
  {
   "cell_type": "code",
   "execution_count": 45,
   "metadata": {
    "id": "0qw8u96pbq33"
   },
   "outputs": [],
   "source": [
    "col_dict = {col_name: str(col_name).lower().replace(' ', '_') for col_name in bookings.columns}"
   ]
  },
  {
   "cell_type": "code",
   "execution_count": 46,
   "metadata": {},
   "outputs": [],
   "source": [
    "bookings = bookings.rename(columns=col_dict)"
   ]
  },
  {
   "cell_type": "markdown",
   "metadata": {
    "id": "jezyA4mdbq35"
   },
   "source": [
    "## Шаг 6"
   ]
  },
  {
   "cell_type": "markdown",
   "metadata": {
    "id": "_PkGXUhwbq36"
   },
   "source": [
    "Перейдем к исследованию данных. Чтобы вести успешный бизнес, нашей сети отелей нужно понимать своих клиентов. В этом задании выясните, пользователи из каких стран совершили наибольшее число успешных бронирований? Бронирование считается успешным, если в дальнейшем не было отменено (см.колонку `is_canceled`). **В качестве ответа выберите страны, входящие в топ-5 по числу успешных бронирований**."
   ]
  },
  {
   "cell_type": "code",
   "execution_count": 57,
   "metadata": {},
   "outputs": [
    {
     "data": {
      "text/plain": [
       "PRT    21071\n",
       "GBR     9676\n",
       "FRA     8481\n",
       "ESP     6391\n",
       "DEU     6069\n",
       "Name: country, dtype: int64"
      ]
     },
     "execution_count": 57,
     "metadata": {},
     "output_type": "execute_result"
    }
   ],
   "source": [
    "bookings.query('is_canceled==0').country.value_counts().head()"
   ]
  },
  {
   "cell_type": "markdown",
   "metadata": {
    "id": "EbO4PNu8bq38"
   },
   "source": [
    "## Шаг 7"
   ]
  },
  {
   "cell_type": "markdown",
   "metadata": {
    "id": "VnygM25Kbq38"
   },
   "source": [
    "В нашей сети есть два типа отелей: City Hotel и Resort Hotel. Владельцы сети хотят понимать, отличается ли длительность бронирования в зависимости от типа отеля (см.колонку `hotel`). **Выясните, на сколько ночей (см.колонку `stays_total_nights`) в среднем бронируют отели City Hotel и на сколько Resort Hotel?** Запишите полученные значения в пропуски с точностью до двух знаков после точки.\n",
    "\n",
    "Может пригодиться: [round](https://pandas.pydata.org/pandas-docs/stable/reference/api/pandas.Series.round.html)"
   ]
  },
  {
   "cell_type": "markdown",
   "metadata": {
    "id": "JLCjoRcVbq38"
   },
   "source": [
    "Шаги выполнения:  \n",
    "1. Сгруппируйте данные по типу отеля и посчитайте для каждой группы среднее число забронированных ночей"
   ]
  },
  {
   "cell_type": "markdown",
   "metadata": {
    "id": "2A3_jW3Fbq39"
   },
   "source": [
    "2. Округлите результаты до двух знаков после точки"
   ]
  },
  {
   "cell_type": "code",
   "execution_count": 71,
   "metadata": {
    "id": "dZC9COHYbq3-"
   },
   "outputs": [
    {
     "data": {
      "text/html": [
       "<div>\n",
       "<style scoped>\n",
       "    .dataframe tbody tr th:only-of-type {\n",
       "        vertical-align: middle;\n",
       "    }\n",
       "\n",
       "    .dataframe tbody tr th {\n",
       "        vertical-align: top;\n",
       "    }\n",
       "\n",
       "    .dataframe thead th {\n",
       "        text-align: right;\n",
       "    }\n",
       "</style>\n",
       "<table border=\"1\" class=\"dataframe\">\n",
       "  <thead>\n",
       "    <tr style=\"text-align: right;\">\n",
       "      <th></th>\n",
       "      <th>hotel</th>\n",
       "      <th>stays_total_nights</th>\n",
       "    </tr>\n",
       "  </thead>\n",
       "  <tbody>\n",
       "    <tr>\n",
       "      <th>0</th>\n",
       "      <td>City Hotel</td>\n",
       "      <td>2.978142</td>\n",
       "    </tr>\n",
       "    <tr>\n",
       "      <th>1</th>\n",
       "      <td>Resort Hotel</td>\n",
       "      <td>4.318547</td>\n",
       "    </tr>\n",
       "  </tbody>\n",
       "</table>\n",
       "</div>"
      ],
      "text/plain": [
       "          hotel  stays_total_nights\n",
       "0    City Hotel            2.978142\n",
       "1  Resort Hotel            4.318547"
      ]
     },
     "execution_count": 71,
     "metadata": {},
     "output_type": "execute_result"
    }
   ],
   "source": [
    "bookings.groupby('hotel', as_index=False).stays_total_nights.mean()"
   ]
  },
  {
   "cell_type": "markdown",
   "metadata": {
    "id": "qTsEXBJYbq3_"
   },
   "source": [
    "## Шаг 8"
   ]
  },
  {
   "cell_type": "markdown",
   "metadata": {
    "id": "l2LTha1hbq3_"
   },
   "source": [
    "Бывает, что в наших отелях случается [овербукинг](https://ru.wikipedia.org/wiki/Овербукинг). Тогда тип номера, присвоенного клиенту (см.колонку `assigned_room_type`), будет отличаться от изначально забронированного (см.колонку `reserved_room_type`). **Посчитайте, сколько подобных наблюдений встретилось в датасете?** Отмена бронирования также считается."
   ]
  },
  {
   "cell_type": "markdown",
   "metadata": {
    "id": "w27cKCE8bq3_"
   },
   "source": [
    "Шаги выполнения:\n",
    "1. Отберите строки, где значения в колонке `assigned_room_type` не совпадают со значениями в колонке `reserved_room_type`"
   ]
  },
  {
   "cell_type": "markdown",
   "metadata": {
    "id": "C6IqS_5vbq4A"
   },
   "source": [
    "2. Посчитайте количество оставшихся строк"
   ]
  },
  {
   "cell_type": "code",
   "execution_count": 76,
   "metadata": {
    "id": "Qr3r81eCbq4A"
   },
   "outputs": [
    {
     "data": {
      "text/plain": [
       "(14917, 21)"
      ]
     },
     "execution_count": 76,
     "metadata": {},
     "output_type": "execute_result"
    }
   ],
   "source": [
    "bookings.query('assigned_room_type != reserved_room_type').shape"
   ]
  },
  {
   "cell_type": "markdown",
   "metadata": {
    "id": "YBQIQA6Lbq4C"
   },
   "source": [
    "## Шаг 9"
   ]
  },
  {
   "cell_type": "markdown",
   "metadata": {
    "id": "EmfW8vQgbq4C"
   },
   "source": [
    "Если у спроса на услугу есть сезонность, компании стоит это учесть. Проанализируйте даты запланированного прибытия (см.колонку `arrival_date_year`) и **определите, на какой месяц чаще всего оформляли бронь в 2016 году? Изменился ли самый популярный месяц в 2017?**"
   ]
  },
  {
   "cell_type": "markdown",
   "metadata": {
    "id": "tJSd0MJibq4C"
   },
   "source": [
    "Шаги выполнения:\n",
    "1. Сгруппируйте данные по годам и посчитайте, сколько раз внутри года встречается каждый месяц"
   ]
  },
  {
   "cell_type": "markdown",
   "metadata": {
    "id": "5_8jUJt-bq4D"
   },
   "source": [
    "2. Посмотрите, в каком месяце было больше всего бронирований в 2016 году. А в 2017?"
   ]
  },
  {
   "cell_type": "code",
   "execution_count": 95,
   "metadata": {
    "id": "fhgu7dkebq4D"
   },
   "outputs": [
    {
     "data": {
      "text/html": [
       "<div>\n",
       "<style scoped>\n",
       "    .dataframe tbody tr th:only-of-type {\n",
       "        vertical-align: middle;\n",
       "    }\n",
       "\n",
       "    .dataframe tbody tr th {\n",
       "        vertical-align: top;\n",
       "    }\n",
       "\n",
       "    .dataframe thead th {\n",
       "        text-align: right;\n",
       "    }\n",
       "</style>\n",
       "<table border=\"1\" class=\"dataframe\">\n",
       "  <thead>\n",
       "    <tr style=\"text-align: right;\">\n",
       "      <th></th>\n",
       "      <th>arrival_date_year</th>\n",
       "      <th>arrival_date_month</th>\n",
       "      <th>hotel</th>\n",
       "    </tr>\n",
       "  </thead>\n",
       "  <tbody>\n",
       "    <tr>\n",
       "      <th>25</th>\n",
       "      <td>2017</td>\n",
       "      <td>May</td>\n",
       "      <td>6313</td>\n",
       "    </tr>\n",
       "    <tr>\n",
       "      <th>18</th>\n",
       "      <td>2017</td>\n",
       "      <td>April</td>\n",
       "      <td>5661</td>\n",
       "    </tr>\n",
       "    <tr>\n",
       "      <th>23</th>\n",
       "      <td>2017</td>\n",
       "      <td>June</td>\n",
       "      <td>5647</td>\n",
       "    </tr>\n",
       "    <tr>\n",
       "      <th>22</th>\n",
       "      <td>2017</td>\n",
       "      <td>July</td>\n",
       "      <td>5313</td>\n",
       "    </tr>\n",
       "    <tr>\n",
       "      <th>24</th>\n",
       "      <td>2017</td>\n",
       "      <td>March</td>\n",
       "      <td>4970</td>\n",
       "    </tr>\n",
       "    <tr>\n",
       "      <th>19</th>\n",
       "      <td>2017</td>\n",
       "      <td>August</td>\n",
       "      <td>4925</td>\n",
       "    </tr>\n",
       "    <tr>\n",
       "      <th>20</th>\n",
       "      <td>2017</td>\n",
       "      <td>February</td>\n",
       "      <td>4177</td>\n",
       "    </tr>\n",
       "    <tr>\n",
       "      <th>21</th>\n",
       "      <td>2017</td>\n",
       "      <td>January</td>\n",
       "      <td>3681</td>\n",
       "    </tr>\n",
       "    <tr>\n",
       "      <th>16</th>\n",
       "      <td>2016</td>\n",
       "      <td>October</td>\n",
       "      <td>6203</td>\n",
       "    </tr>\n",
       "    <tr>\n",
       "      <th>14</th>\n",
       "      <td>2016</td>\n",
       "      <td>May</td>\n",
       "      <td>5478</td>\n",
       "    </tr>\n",
       "    <tr>\n",
       "      <th>6</th>\n",
       "      <td>2016</td>\n",
       "      <td>April</td>\n",
       "      <td>5428</td>\n",
       "    </tr>\n",
       "    <tr>\n",
       "      <th>17</th>\n",
       "      <td>2016</td>\n",
       "      <td>September</td>\n",
       "      <td>5394</td>\n",
       "    </tr>\n",
       "    <tr>\n",
       "      <th>12</th>\n",
       "      <td>2016</td>\n",
       "      <td>June</td>\n",
       "      <td>5292</td>\n",
       "    </tr>\n",
       "    <tr>\n",
       "      <th>7</th>\n",
       "      <td>2016</td>\n",
       "      <td>August</td>\n",
       "      <td>5063</td>\n",
       "    </tr>\n",
       "    <tr>\n",
       "      <th>13</th>\n",
       "      <td>2016</td>\n",
       "      <td>March</td>\n",
       "      <td>4824</td>\n",
       "    </tr>\n",
       "    <tr>\n",
       "      <th>11</th>\n",
       "      <td>2016</td>\n",
       "      <td>July</td>\n",
       "      <td>4572</td>\n",
       "    </tr>\n",
       "    <tr>\n",
       "      <th>15</th>\n",
       "      <td>2016</td>\n",
       "      <td>November</td>\n",
       "      <td>4454</td>\n",
       "    </tr>\n",
       "    <tr>\n",
       "      <th>9</th>\n",
       "      <td>2016</td>\n",
       "      <td>February</td>\n",
       "      <td>3891</td>\n",
       "    </tr>\n",
       "    <tr>\n",
       "      <th>8</th>\n",
       "      <td>2016</td>\n",
       "      <td>December</td>\n",
       "      <td>3860</td>\n",
       "    </tr>\n",
       "    <tr>\n",
       "      <th>10</th>\n",
       "      <td>2016</td>\n",
       "      <td>January</td>\n",
       "      <td>2248</td>\n",
       "    </tr>\n",
       "  </tbody>\n",
       "</table>\n",
       "</div>"
      ],
      "text/plain": [
       "    arrival_date_year arrival_date_month  hotel\n",
       "25               2017                May   6313\n",
       "18               2017              April   5661\n",
       "23               2017               June   5647\n",
       "22               2017               July   5313\n",
       "24               2017              March   4970\n",
       "19               2017             August   4925\n",
       "20               2017           February   4177\n",
       "21               2017            January   3681\n",
       "16               2016            October   6203\n",
       "14               2016                May   5478\n",
       "6                2016              April   5428\n",
       "17               2016          September   5394\n",
       "12               2016               June   5292\n",
       "7                2016             August   5063\n",
       "13               2016              March   4824\n",
       "11               2016               July   4572\n",
       "15               2016           November   4454\n",
       "9                2016           February   3891\n",
       "8                2016           December   3860\n",
       "10               2016            January   2248"
      ]
     },
     "execution_count": 95,
     "metadata": {},
     "output_type": "execute_result"
    }
   ],
   "source": [
    "bookings.groupby(['arrival_date_year', 'arrival_date_month'], as_index=False).hotel.count()\\\n",
    "    .sort_values(['arrival_date_year','hotel'], ascending=False)\\\n",
    "    .query('arrival_date_year == 2017 | arrival_date_year == 2016')"
   ]
  },
  {
   "cell_type": "markdown",
   "metadata": {
    "id": "RQltKeuibq4K"
   },
   "source": [
    "## Шаг 10"
   ]
  },
  {
   "cell_type": "markdown",
   "metadata": {
    "id": "5EsY__TFbq4K"
   },
   "source": [
    "Продолжим изучать бронирования. **Выясните, в каком месяце каждого года бронирования отеля типа City Hotel отменялись чаще всего.**"
   ]
  },
  {
   "cell_type": "markdown",
   "metadata": {
    "id": "ME_USuz5bq4L"
   },
   "source": [
    "Шаги выполнения:\n",
    "1. Оставьте только записи об отмененных бронированиях (см.колонку `is_canceled`) отеля типа City Hotel (см.колонку `hotel`)"
   ]
  },
  {
   "cell_type": "markdown",
   "metadata": {
    "id": "lrCCfJ__bq4L"
   },
   "source": [
    "2. Сгруппируйте оставшиеся данные по годам и посчитайте количество записей для каждого месяца внутри года"
   ]
  },
  {
   "cell_type": "markdown",
   "metadata": {
    "id": "NupAnyYUbq4M"
   },
   "source": [
    "3. Посмотрите, в каком месяце бронирования City Hotel отменялись чаще всего в 2015? 2016? 2017?"
   ]
  },
  {
   "cell_type": "code",
   "execution_count": 100,
   "metadata": {},
   "outputs": [
    {
     "data": {
      "text/html": [
       "<div>\n",
       "<style scoped>\n",
       "    .dataframe tbody tr th:only-of-type {\n",
       "        vertical-align: middle;\n",
       "    }\n",
       "\n",
       "    .dataframe tbody tr th {\n",
       "        vertical-align: top;\n",
       "    }\n",
       "\n",
       "    .dataframe thead th {\n",
       "        text-align: right;\n",
       "    }\n",
       "</style>\n",
       "<table border=\"1\" class=\"dataframe\">\n",
       "  <thead>\n",
       "    <tr style=\"text-align: right;\">\n",
       "      <th></th>\n",
       "      <th>arrival_date_year</th>\n",
       "      <th>arrival_date_month</th>\n",
       "      <th>lead_time</th>\n",
       "    </tr>\n",
       "  </thead>\n",
       "  <tbody>\n",
       "    <tr>\n",
       "      <th>25</th>\n",
       "      <td>2017</td>\n",
       "      <td>May</td>\n",
       "      <td>2217</td>\n",
       "    </tr>\n",
       "    <tr>\n",
       "      <th>18</th>\n",
       "      <td>2017</td>\n",
       "      <td>April</td>\n",
       "      <td>1926</td>\n",
       "    </tr>\n",
       "    <tr>\n",
       "      <th>23</th>\n",
       "      <td>2017</td>\n",
       "      <td>June</td>\n",
       "      <td>1808</td>\n",
       "    </tr>\n",
       "    <tr>\n",
       "      <th>22</th>\n",
       "      <td>2017</td>\n",
       "      <td>July</td>\n",
       "      <td>1324</td>\n",
       "    </tr>\n",
       "    <tr>\n",
       "      <th>24</th>\n",
       "      <td>2017</td>\n",
       "      <td>March</td>\n",
       "      <td>1278</td>\n",
       "    </tr>\n",
       "    <tr>\n",
       "      <th>19</th>\n",
       "      <td>2017</td>\n",
       "      <td>August</td>\n",
       "      <td>1123</td>\n",
       "    </tr>\n",
       "    <tr>\n",
       "      <th>21</th>\n",
       "      <td>2017</td>\n",
       "      <td>January</td>\n",
       "      <td>1044</td>\n",
       "    </tr>\n",
       "    <tr>\n",
       "      <th>20</th>\n",
       "      <td>2017</td>\n",
       "      <td>February</td>\n",
       "      <td>971</td>\n",
       "    </tr>\n",
       "    <tr>\n",
       "      <th>16</th>\n",
       "      <td>2016</td>\n",
       "      <td>October</td>\n",
       "      <td>1947</td>\n",
       "    </tr>\n",
       "    <tr>\n",
       "      <th>12</th>\n",
       "      <td>2016</td>\n",
       "      <td>June</td>\n",
       "      <td>1720</td>\n",
       "    </tr>\n",
       "    <tr>\n",
       "      <th>17</th>\n",
       "      <td>2016</td>\n",
       "      <td>September</td>\n",
       "      <td>1567</td>\n",
       "    </tr>\n",
       "    <tr>\n",
       "      <th>6</th>\n",
       "      <td>2016</td>\n",
       "      <td>April</td>\n",
       "      <td>1539</td>\n",
       "    </tr>\n",
       "    <tr>\n",
       "      <th>14</th>\n",
       "      <td>2016</td>\n",
       "      <td>May</td>\n",
       "      <td>1436</td>\n",
       "    </tr>\n",
       "    <tr>\n",
       "      <th>15</th>\n",
       "      <td>2016</td>\n",
       "      <td>November</td>\n",
       "      <td>1360</td>\n",
       "    </tr>\n",
       "    <tr>\n",
       "      <th>7</th>\n",
       "      <td>2016</td>\n",
       "      <td>August</td>\n",
       "      <td>1247</td>\n",
       "    </tr>\n",
       "    <tr>\n",
       "      <th>13</th>\n",
       "      <td>2016</td>\n",
       "      <td>March</td>\n",
       "      <td>1108</td>\n",
       "    </tr>\n",
       "    <tr>\n",
       "      <th>8</th>\n",
       "      <td>2016</td>\n",
       "      <td>December</td>\n",
       "      <td>1072</td>\n",
       "    </tr>\n",
       "    <tr>\n",
       "      <th>11</th>\n",
       "      <td>2016</td>\n",
       "      <td>July</td>\n",
       "      <td>1043</td>\n",
       "    </tr>\n",
       "    <tr>\n",
       "      <th>9</th>\n",
       "      <td>2016</td>\n",
       "      <td>February</td>\n",
       "      <td>930</td>\n",
       "    </tr>\n",
       "    <tr>\n",
       "      <th>10</th>\n",
       "      <td>2016</td>\n",
       "      <td>January</td>\n",
       "      <td>438</td>\n",
       "    </tr>\n",
       "    <tr>\n",
       "      <th>5</th>\n",
       "      <td>2015</td>\n",
       "      <td>September</td>\n",
       "      <td>1543</td>\n",
       "    </tr>\n",
       "    <tr>\n",
       "      <th>4</th>\n",
       "      <td>2015</td>\n",
       "      <td>October</td>\n",
       "      <td>1321</td>\n",
       "    </tr>\n",
       "    <tr>\n",
       "      <th>0</th>\n",
       "      <td>2015</td>\n",
       "      <td>August</td>\n",
       "      <td>1232</td>\n",
       "    </tr>\n",
       "    <tr>\n",
       "      <th>2</th>\n",
       "      <td>2015</td>\n",
       "      <td>July</td>\n",
       "      <td>939</td>\n",
       "    </tr>\n",
       "    <tr>\n",
       "      <th>1</th>\n",
       "      <td>2015</td>\n",
       "      <td>December</td>\n",
       "      <td>668</td>\n",
       "    </tr>\n",
       "    <tr>\n",
       "      <th>3</th>\n",
       "      <td>2015</td>\n",
       "      <td>November</td>\n",
       "      <td>301</td>\n",
       "    </tr>\n",
       "  </tbody>\n",
       "</table>\n",
       "</div>"
      ],
      "text/plain": [
       "    arrival_date_year arrival_date_month  lead_time\n",
       "25               2017                May       2217\n",
       "18               2017              April       1926\n",
       "23               2017               June       1808\n",
       "22               2017               July       1324\n",
       "24               2017              March       1278\n",
       "19               2017             August       1123\n",
       "21               2017            January       1044\n",
       "20               2017           February        971\n",
       "16               2016            October       1947\n",
       "12               2016               June       1720\n",
       "17               2016          September       1567\n",
       "6                2016              April       1539\n",
       "14               2016                May       1436\n",
       "15               2016           November       1360\n",
       "7                2016             August       1247\n",
       "13               2016              March       1108\n",
       "8                2016           December       1072\n",
       "11               2016               July       1043\n",
       "9                2016           February        930\n",
       "10               2016            January        438\n",
       "5                2015          September       1543\n",
       "4                2015            October       1321\n",
       "0                2015             August       1232\n",
       "2                2015               July        939\n",
       "1                2015           December        668\n",
       "3                2015           November        301"
      ]
     },
     "execution_count": 100,
     "metadata": {},
     "output_type": "execute_result"
    }
   ],
   "source": [
    "bookings\\\n",
    "    .query('is_canceled == 1 & hotel == \"City Hotel\"')\\\n",
    "    .groupby(['arrival_date_year', 'arrival_date_month'], as_index=False)\\\n",
    "    .lead_time.count()\\\n",
    "    .sort_values(['arrival_date_year','lead_time'], ascending=False)"
   ]
  },
  {
   "cell_type": "markdown",
   "metadata": {
    "id": "ymlZ0EpZbq4N"
   },
   "source": [
    "## Шаг 11"
   ]
  },
  {
   "cell_type": "markdown",
   "metadata": {
    "id": "wrgPlP9Ubq4N"
   },
   "source": [
    "Теперь посмотрим на наших клиентов с точки зрения их возраста. **Какая из колонок `adults`, `children` и `babies` имеет наибольшее среднее значение?**"
   ]
  },
  {
   "cell_type": "markdown",
   "metadata": {
    "id": "CM3KaGYzbq4N"
   },
   "source": [
    "Шаги выполнения:\n",
    "1. Оставьте в датафрейме только 3 колонки:  `adults`, `children` и `babies`"
   ]
  },
  {
   "cell_type": "markdown",
   "metadata": {
    "id": "qU0pSCNHbq4O"
   },
   "source": [
    "2. Посчитайте средние значения для оставшихся колонок"
   ]
  },
  {
   "cell_type": "markdown",
   "metadata": {
    "id": "jmGJegtUbq4O"
   },
   "source": [
    "3. Посмотрите, среднее значение в какой колонке больше других?"
   ]
  },
  {
   "cell_type": "code",
   "execution_count": 102,
   "metadata": {},
   "outputs": [
    {
     "data": {
      "text/plain": [
       "adults      1.856403\n",
       "children    0.103890\n",
       "babies      0.007949\n",
       "dtype: float64"
      ]
     },
     "execution_count": 102,
     "metadata": {},
     "output_type": "execute_result"
    }
   ],
   "source": [
    "bookings[['adults', 'children', 'babies']].mean()"
   ]
  },
  {
   "cell_type": "markdown",
   "metadata": {
    "id": "U1XK-CDlbq4P"
   },
   "source": [
    "## Шаг 12"
   ]
  },
  {
   "cell_type": "markdown",
   "metadata": {
    "id": "UdaNlXNkbq4P"
   },
   "source": [
    "В наших данных информация о количестве детей записана в две колонки: `children` и `babies`. Это удобно, если нам нужно знать примерный возраст маленьких гостей, но неудобно, если нам требуется просто общее число детей. Для этого создайте колонку `total_kids`, объединив столбцы `children` и `babies`.\n",
    "\n",
    "После того проверьте, для отелей какого типа среднее значение этой переменной оказалось наибольшим, для City hotel или Resort hotel. **В качестве ответа укажите наибольшее среднее `total_kids`, округлив до двух знаков после точки**."
   ]
  },
  {
   "cell_type": "markdown",
   "metadata": {
    "id": "dwm-NQ_ebq4Q"
   },
   "source": [
    "Шаги выполнения:\n",
    "1. Создайте колонку `total_kids`, сложив значения в столбцах `children` и `babies`"
   ]
  },
  {
   "cell_type": "markdown",
   "metadata": {
    "id": "JZz_QY4Qbq4Q"
   },
   "source": [
    "2. Сгруппируйте данные по типу отеля и посчитайте для каждой группы среднее количество детей"
   ]
  },
  {
   "cell_type": "markdown",
   "metadata": {
    "id": "BwFgaDjtbq4R"
   },
   "source": [
    "3. Округлите результаты до двух знаков после точки"
   ]
  },
  {
   "cell_type": "markdown",
   "metadata": {
    "id": "P1jItuU2bq4R"
   },
   "source": [
    "4. Посмотрите, для отелей какого типа среднее значение оказалось наибольшим? Чему равно это значение?"
   ]
  },
  {
   "cell_type": "code",
   "execution_count": 103,
   "metadata": {},
   "outputs": [],
   "source": [
    "bookings['total_kids'] = bookings['children']+bookings['babies']"
   ]
  },
  {
   "cell_type": "code",
   "execution_count": 105,
   "metadata": {},
   "outputs": [
    {
     "data": {
      "text/plain": [
       "hotel\n",
       "City Hotel      0.10\n",
       "Resort Hotel    0.14\n",
       "Name: total_kids, dtype: float64"
      ]
     },
     "execution_count": 105,
     "metadata": {},
     "output_type": "execute_result"
    }
   ],
   "source": [
    "bookings\\\n",
    "    .groupby('hotel').total_kids.mean().round(2)"
   ]
  },
  {
   "cell_type": "markdown",
   "metadata": {
    "id": "eZr-mGKebq4S"
   },
   "source": [
    "## Шаг 13"
   ]
  },
  {
   "cell_type": "markdown",
   "metadata": {
    "id": "QCMr3DpIbq4S"
   },
   "source": [
    "Бизнес не любит упускать прибыль, но не все бронирования завершились успешно (см.колонку `is_canceled`), поэтому попробуем посчитать, сколько клиентов было потеряно в процессе. Иными словами, посчитаем метрику под названием Churn Rate.\n",
    "\n",
    "**Churn rate** (отток, коэффициент оттока) – это процент подписчиков, которые отписались от канала коммуникации, отказались от услуг сервиса в течение определенного периода времени. Т.е. представляет собой отношение количества ушедших пользователей к общему количеству пользователей, выраженное в процентах. Если Churn rate считают для какой-то определенной группы, то и количество ушедших пользователей, и общее количество пользователей считают только по этой группе.\n",
    "\n",
    "В нашем случае Churn Rate — это процент клиентов, которые отменили бронирование. Давайте посмотрим, как эта метрика связана с наличием детей у клиентов. **Посчитайте Churn Rate дважды: для клиентов с детьми и для клиентов без детей. В качестве ответа укажите наибольший Churn Rate (% оттока), округленный до двух знаков после точки** (то есть доля 0.24563 будет 24.56% и в ответ пойдёт 24.56)"
   ]
  },
  {
   "cell_type": "markdown",
   "metadata": {
    "id": "_Zkk_Dgnbq4T"
   },
   "source": [
    "Шаги выполнения:  \n",
    "1. Создайте колонку `has_kids`, которая принимает значение True, если клиент при бронировании указал хотя бы одного ребенка (см.созданную на прошлом шаге колонку `total_kids`), в противном случае – False"
   ]
  },
  {
   "cell_type": "markdown",
   "metadata": {
    "id": "zHAqJ1J5bq4T"
   },
   "source": [
    "2. Получите 4 датафрейма, отобрав только нужные записи для каждого:  \n",
    "1 — клиенты без детей, которые делали бронирование (не важно, отменяли его потом или нет)  \n",
    "2 — клиенты без детей, которые отменили бронирование  \n",
    "3, 4 — аналогичные два датафрейма для клиентов с детьми"
   ]
  },
  {
   "cell_type": "markdown",
   "metadata": {
    "id": "dgA06fw-bq4U"
   },
   "source": [
    "3. Посчитайте количество записей в каждом из четырех датафреймов, чтобы получить число клиентов с теми или иными параметрами"
   ]
  },
  {
   "cell_type": "markdown",
   "metadata": {
    "id": "GCJfhoP9bq4V"
   },
   "source": [
    "4. Посчитайте Churn Rate клиентов без детей: разделите число клиентов без детей, которые отменили бронирование, на общее число клиентов без детей и переведите результат в проценты. По аналогии посчитайте Churn Rate клиентов с детьми"
   ]
  },
  {
   "cell_type": "markdown",
   "metadata": {
    "id": "bLzMoPYMbq4V"
   },
   "source": [
    "5. Округлите оба значения Churn Rate до двух знаков после точки"
   ]
  },
  {
   "cell_type": "markdown",
   "metadata": {
    "id": "P-_kmeDqbq4W"
   },
   "source": [
    "6. Посмотрите, какое из значений Churn rate больше: у клиентов с детьми или у клиентов без детей? Чему равно это значение?"
   ]
  },
  {
   "cell_type": "code",
   "execution_count": 123,
   "metadata": {},
   "outputs": [],
   "source": [
    "bookings['has_kids'] = bookings.total_kids > 0"
   ]
  },
  {
   "cell_type": "code",
   "execution_count": 126,
   "metadata": {},
   "outputs": [
    {
     "data": {
      "text/plain": [
       "('Нет детей', 0.37221283323338605)"
      ]
     },
     "execution_count": 126,
     "metadata": {},
     "output_type": "execute_result"
    }
   ],
   "source": [
    "a1 = bookings.query('not has_kids').hotel.count()\n",
    "a2 = bookings.query('not has_kids & is_canceled').hotel.count()\n",
    "'Нет детей', a2/a1"
   ]
  },
  {
   "cell_type": "code",
   "execution_count": 127,
   "metadata": {},
   "outputs": [
    {
     "data": {
      "text/plain": [
       "('Есть дети', 0.3492284612087441)"
      ]
     },
     "execution_count": 127,
     "metadata": {},
     "output_type": "execute_result"
    }
   ],
   "source": [
    "b1 = bookings.query('has_kids').hotel.count()\n",
    "b2 = bookings.query('has_kids & is_canceled').hotel.count()\n",
    "'Есть дети', b2/b1"
   ]
  },
  {
   "cell_type": "markdown",
   "metadata": {
    "id": "f0o64Pb-bq4Y"
   },
   "source": [
    "## Итоги"
   ]
  },
  {
   "cell_type": "markdown",
   "metadata": {
    "id": "n0CbV09Ebq4Y"
   },
   "source": [
    "В этом проекте вы проанализировали данные о бронированиях и закрепили навыки работы с библиотекой pandas, а также узнали новые подходы к переименованию колонок и округлению значений, познакомились с метрикой Churn Rate."
   ]
  }
 ],
 "metadata": {
  "colab": {
   "provenance": []
  },
  "kernelspec": {
   "display_name": "Python 3 (ipykernel)",
   "language": "python",
   "name": "python3"
  },
  "language_info": {
   "codemirror_mode": {
    "name": "ipython",
    "version": 3
   },
   "file_extension": ".py",
   "mimetype": "text/x-python",
   "name": "python",
   "nbconvert_exporter": "python",
   "pygments_lexer": "ipython3",
   "version": "3.7.0"
  }
 },
 "nbformat": 4,
 "nbformat_minor": 1
}
